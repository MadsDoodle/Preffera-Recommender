{
 "cells": [
  {
   "cell_type": "code",
   "execution_count": 4,
   "id": "25778331-fafd-4c3f-81c8-10ade31591fd",
   "metadata": {},
   "outputs": [],
   "source": [
    "import pandas as pd\n",
    "import numpy as np\n",
    "import os\n",
    "import pickle\n",
    "from sklearn.model_selection import train_test_split\n",
    "from scipy.sparse import csr_matrix\n",
    "\n",
    "\n",
    "# For CF engines\n",
    "import sys\n",
    "PROJECT_ROOT = os.path.abspath(\"..\")\n",
    "sys.path.append(PROJECT_ROOT)\n",
    "from src.cf_engines import predict_ratings_user_cf, predict_ratings_item_cf\n",
    "\n",
    "# Paths\n",
    "PROCESSED_DIR = \"../data/processed\"\n",
    "ratings_file = os.path.join(PROCESSED_DIR, \"ratings_processed.csv\")\n",
    "movies_file = os.path.join(PROCESSED_DIR, \"movies_processed.csv\")\n",
    "sparse_file = os.path.join(PROCESSED_DIR, \"user_item_matrix.pkl\")\n"
   ]
  },
  {
   "cell_type": "code",
   "execution_count": 5,
   "id": "1cd863c2-6b3b-4f58-8eda-54c5277c13e1",
   "metadata": {},
   "outputs": [
    {
     "name": "stdout",
     "output_type": "stream",
     "text": [
      "Sparse matrix shape: (943, 1682)\n"
     ]
    }
   ],
   "source": [
    "ratings = pd.read_csv(ratings_file)\n",
    "movies = pd.read_csv(movies_file)\n",
    "\n",
    "with open(sparse_file, \"rb\") as f:\n",
    "    user_item_matrix = pickle.load(f)\n",
    "\n",
    "n_users, n_items = user_item_matrix.shape\n",
    "print(f\"Sparse matrix shape: {user_item_matrix.shape}\")\n"
   ]
  },
  {
   "cell_type": "code",
   "execution_count": 6,
   "id": "a968ae5a-44b5-4567-b337-2d8008af06e2",
   "metadata": {},
   "outputs": [],
   "source": [
    "# For explicit feedback, leave one rating per user for testing\n",
    "train_matrix = user_item_matrix.copy()\n",
    "test_matrix = np.zeros_like(user_item_matrix.toarray())\n",
    "\n",
    "for user_idx in range(n_users):\n",
    "    rated_items = user_item_matrix[user_idx].indices\n",
    "    if len(rated_items) == 0:\n",
    "        continue\n",
    "    test_item = np.random.choice(rated_items)\n",
    "    test_matrix[user_idx, test_item] = user_item_matrix[user_idx, test_item]\n",
    "    train_matrix[user_idx, test_item] = 0\n",
    "\n",
    "train_matrix = csr_matrix(train_matrix)\n",
    "test_matrix = csr_matrix(test_matrix)\n"
   ]
  },
  {
   "cell_type": "code",
   "execution_count": 7,
   "id": "90f96ef6-13c9-4cfb-b1d5-018908d92475",
   "metadata": {},
   "outputs": [],
   "source": [
    "from sklearn.metrics.pairwise import cosine_similarity\n",
    "\n",
    "# User-based similarity\n",
    "user_sim_matrix = cosine_similarity(train_matrix)\n",
    "\n",
    "# Item-based similarity\n",
    "item_sim_matrix = cosine_similarity(train_matrix.T)\n"
   ]
  },
  {
   "cell_type": "code",
   "execution_count": 8,
   "id": "9f9414ad-9915-45a3-b70c-6749f938d550",
   "metadata": {},
   "outputs": [],
   "source": [
    "def precision_at_k(recommended, relevant, k=10):\n",
    "    recommended = recommended[:k]\n",
    "    return len(set(recommended) & set(relevant)) / k\n",
    "\n",
    "def recall_at_k(recommended, relevant, k=10):\n",
    "    recommended = recommended[:k]\n",
    "    return len(set(recommended) & set(relevant)) / len(relevant) if len(relevant) > 0 else 0\n",
    "\n",
    "def evaluate_model(model_type, top_n=10, k=5):\n",
    "    precisions, recalls = [], []\n",
    "    \n",
    "    for user_idx in range(n_users):\n",
    "        # Get relevant items from test set\n",
    "        relevant_items = test_matrix[user_idx].indices\n",
    "        \n",
    "        if len(relevant_items) == 0:\n",
    "            continue\n",
    "        \n",
    "        if model_type == \"user_cf\":\n",
    "            recs = predict_ratings_user_cf(user_idx, train_matrix, user_sim_matrix, movies, top_n=top_n, k=k)\n",
    "        elif model_type == \"item_cf\":\n",
    "            recs = predict_ratings_item_cf(user_idx, train_matrix, item_sim_matrix, movies, top_n=top_n, k=k)\n",
    "        elif model_type == \"popularity\":\n",
    "            top_movies = ratings.groupby(\"movie_idx\")[\"rating\"].count().sort_values(ascending=False).index[:top_n]\n",
    "            recs = movies[movies[\"movie_idx\"].isin(top_movies)]\n",
    "        else:\n",
    "            raise ValueError(\"Unknown model_type\")\n",
    "        \n",
    "        recommended_items = recs[\"movie_idx\"].tolist()\n",
    "        precisions.append(precision_at_k(recommended_items, relevant_items, k=top_n))\n",
    "        recalls.append(recall_at_k(recommended_items, relevant_items, k=top_n))\n",
    "    \n",
    "    return np.mean(precisions), np.mean(recalls)\n"
   ]
  },
  {
   "cell_type": "code",
   "execution_count": 9,
   "id": "8556ff02-3872-4fc6-8e16-3b15598a3813",
   "metadata": {},
   "outputs": [
    {
     "data": {
      "text/html": [
       "<div>\n",
       "<style scoped>\n",
       "    .dataframe tbody tr th:only-of-type {\n",
       "        vertical-align: middle;\n",
       "    }\n",
       "\n",
       "    .dataframe tbody tr th {\n",
       "        vertical-align: top;\n",
       "    }\n",
       "\n",
       "    .dataframe thead th {\n",
       "        text-align: right;\n",
       "    }\n",
       "</style>\n",
       "<table border=\"1\" class=\"dataframe\">\n",
       "  <thead>\n",
       "    <tr style=\"text-align: right;\">\n",
       "      <th></th>\n",
       "      <th>Precision@10</th>\n",
       "      <th>Recall@10</th>\n",
       "    </tr>\n",
       "  </thead>\n",
       "  <tbody>\n",
       "    <tr>\n",
       "      <th>popularity</th>\n",
       "      <td>0.007105</td>\n",
       "      <td>0.071050</td>\n",
       "    </tr>\n",
       "    <tr>\n",
       "      <th>user_cf</th>\n",
       "      <td>0.024920</td>\n",
       "      <td>0.249205</td>\n",
       "    </tr>\n",
       "    <tr>\n",
       "      <th>item_cf</th>\n",
       "      <td>0.003287</td>\n",
       "      <td>0.032874</td>\n",
       "    </tr>\n",
       "  </tbody>\n",
       "</table>\n",
       "</div>"
      ],
      "text/plain": [
       "            Precision@10  Recall@10\n",
       "popularity      0.007105   0.071050\n",
       "user_cf         0.024920   0.249205\n",
       "item_cf         0.003287   0.032874"
      ]
     },
     "execution_count": 9,
     "metadata": {},
     "output_type": "execute_result"
    }
   ],
   "source": [
    "top_n = 10\n",
    "k_neighbors = 5\n",
    "\n",
    "metrics = {}\n",
    "for model in [\"popularity\", \"user_cf\", \"item_cf\"]:\n",
    "    prec, rec = evaluate_model(model, top_n=top_n, k=k_neighbors)\n",
    "    metrics[model] = {\"Precision@10\": prec, \"Recall@10\": rec}\n",
    "\n",
    "metrics_df = pd.DataFrame(metrics).T\n",
    "metrics_df\n"
   ]
  },
  {
   "cell_type": "code",
   "execution_count": 10,
   "id": "193767d9-c402-425c-90a9-cf6fffcc26ee",
   "metadata": {},
   "outputs": [
    {
     "data": {
      "image/png": "[encoded data removed]",
      "text/plain": [
       "<Figure size 800x500 with 1 Axes>"
      ]
     },
     "metadata": {},
     "output_type": "display_data"
    }
   ],
   "source": [
    "import matplotlib.pyplot as plt\n",
    "\n",
    "metrics_df.plot(kind=\"bar\", figsize=(8,5), rot=0)\n",
    "plt.title(f\"Model Comparison (Top-{top_n})\")\n",
    "plt.ylabel(\"Score\")\n",
    "plt.show()\n"
   ]
  },
  {
   "cell_type": "markdown",
   "id": "78be66b5-f074-4635-a947-904b5102d6e9",
   "metadata": {},
   "source": [
    "User CF is clearly the best baseline for this dataset\n",
    "\n",
    "Popularity can be used as a fallback for cold-start users\n",
    "\n",
    "Item CF in this small dataset doesn’t perform well, but could improve with larger datasets like ML-1M or ML-20M"
   ]
  },
  {
   "cell_type": "code",
   "execution_count": null,
   "id": "60834d8f-766f-445a-8751-08e620253806",
   "metadata": {},
   "outputs": [],
   "source": []
  }
 ],
 "metadata": {
  "kernelspec": {
   "display_name": "Python (preferee)",
   "language": "python",
   "name": "preferee-env"
  },
  "language_info": {
   "codemirror_mode": {
    "name": "ipython",
    "version": 3
   },
   "file_extension": ".py",
   "mimetype": "text/x-python",
   "name": "python",
   "nbconvert_exporter": "python",
   "pygments_lexer": "ipython3",
   "version": "3.11.13"
  }
 },
 "nbformat": 4,
 "nbformat_minor": 5
}
