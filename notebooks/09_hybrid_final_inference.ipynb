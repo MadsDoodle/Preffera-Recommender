{
 "cells": [
  {
   "cell_type": "markdown",
   "id": "d109d1e2-2e84-46ba-a966-f42a082cf62f",
   "metadata": {},
   "source": [
    "## Unified interface for your recommender system\n",
    "\n",
    "Handles:\n",
    "\n",
    "User-to-movie recommendations (User CF / Item CF / LightFM / Popularity fallback)\n",
    "\n",
    "Movie-to-movie recommendations (using LightFM embeddings)\n",
    "\n",
    "Supports interactive input for both types of queries"
   ]
  },
  {
   "cell_type": "code",
   "execution_count": 1,
   "id": "15366e30-9f8b-4a88-b778-687cde68f77b",
   "metadata": {},
   "outputs": [
    {
     "name": "stderr",
     "output_type": "stream",
     "text": [
      "/Volumes/Crucial X6/Preferee/.venv/lib/python3.11/site-packages/lightfm/_lightfm_fast.py:9: UserWarning: LightFM was compiled without OpenMP support. Only a single thread will be used.\n",
      "  warnings.warn(\n"
     ]
    }
   ],
   "source": [
    "import pandas as pd\n",
    "import numpy as np\n",
    "import os\n",
    "import pickle\n",
    "from sklearn.metrics.pairwise import cosine_similarity\n",
    "from lightfm import LightFM\n",
    "from lightfm.data import Dataset as LightFMDataset\n",
    "import sys\n",
    "\n",
    "PROJECT_ROOT = os.path.abspath(\"..\")\n",
    "sys.path.append(PROJECT_ROOT)\n",
    "\n",
    "from src.cf_engines import predict_ratings_user_cf, predict_ratings_item_cf\n",
    "\n",
    "PROCESSED_DIR = \"../data/processed\"\n",
    "ratings_file = os.path.join(PROCESSED_DIR, \"ratings_processed.csv\")\n",
    "movies_file = os.path.join(PROCESSED_DIR, \"movies_processed.csv\")\n",
    "sparse_file = os.path.join(PROCESSED_DIR, \"user_item_matrix.pkl\")\n"
   ]
  },
  {
   "cell_type": "code",
   "execution_count": 2,
   "id": "a50ccbc0-e148-4ede-b5e5-865cc52e0101",
   "metadata": {},
   "outputs": [],
   "source": [
    "# Movies\n",
    "movies = pd.read_csv(movies_file)\n",
    "\n",
    "# Sparse matrix\n",
    "with open(sparse_file, \"rb\") as f:\n",
    "    user_item_matrix = pickle.load(f)\n",
    "\n",
    "# User similarity matrix for User CF\n",
    "user_sim_matrix = cosine_similarity(user_item_matrix)\n"
   ]
  },
  {
   "cell_type": "code",
   "execution_count": 3,
   "id": "09f2e336-0521-4dc9-9fd5-6e05cb46e3f0",
   "metadata": {},
   "outputs": [],
   "source": [
    "ratings = pd.read_csv(ratings_file)\n",
    "\n",
    "lfm_dataset = LightFMDataset()\n",
    "lfm_dataset.fit(\n",
    "    users=ratings['user_idx'].unique(),\n",
    "    items=ratings['movie_idx'].unique()\n",
    ")\n",
    "\n",
    "(interactions, _) = lfm_dataset.build_interactions(\n",
    "    [(row.user_idx, row.movie_idx, row.rating) for row in ratings.itertuples()]\n",
    ")\n",
    "\n",
    "lfm_model = LightFM(loss='warp', random_state=42)\n",
    "lfm_model.fit(interactions, epochs=30, num_threads=4)\n",
    "\n",
    "# Item embeddings for movie-to-movie recommendations\n",
    "item_embeddings = lfm_model.get_item_representations()[1]\n"
   ]
  },
  {
   "cell_type": "markdown",
   "id": "3cbe85f4-8a9c-4994-8e7a-4fdcff21ad1b",
   "metadata": {},
   "source": [
    "# Movie-to-Movie Recommendation Function"
   ]
  },
  {
   "cell_type": "code",
   "execution_count": 4,
   "id": "e7cfbf16-6419-479d-b8b8-2f2ad7528cf6",
   "metadata": {},
   "outputs": [],
   "source": [
    "def recommend_similar_movies(movie_name, movies_df, item_embeddings, top_n=5):\n",
    "    movie_row = movies_df[movies_df[\"title\"].str.lower() == movie_name.lower()]\n",
    "    if movie_row.empty:\n",
    "        print(\"Movie not found!\")\n",
    "        return None\n",
    "    \n",
    "    movie_idx = movie_row.iloc[0][\"movie_idx\"]\n",
    "    sim_scores = cosine_similarity([item_embeddings[movie_idx]], item_embeddings)[0]\n",
    "    similar_idx = np.argsort(-sim_scores)\n",
    "    similar_idx = similar_idx[similar_idx != movie_idx][:top_n]\n",
    "    \n",
    "    return movies_df[movies_df[\"movie_idx\"].isin(similar_idx)][[\"movie_idx\", \"title\"]]\n"
   ]
  },
  {
   "cell_type": "markdown",
   "id": "e5868fb5-34f5-48ef-b547-e376891fef6c",
   "metadata": {},
   "source": [
    "# User-to-Movie Hybrid Recommendation Function"
   ]
  },
  {
   "cell_type": "code",
   "execution_count": 5,
   "id": "ac1497d7-4571-452d-8957-6abc53350198",
   "metadata": {},
   "outputs": [],
   "source": [
    "def recommend_movies_hybrid(user_idx, top_n=10, k=5, min_rated_user=5, min_rated_item=2):\n",
    "    user_rated_count = user_item_matrix[user_idx].getnnz()\n",
    "    \n",
    "    if user_rated_count >= min_rated_user:\n",
    "        print(f\"User CF for user {user_idx}\")\n",
    "        return predict_ratings_user_cf(user_idx, user_item_matrix, user_sim_matrix, movies, top_n, k)\n",
    "    elif user_rated_count >= min_rated_item:\n",
    "        print(f\"Item CF for user {user_idx}\")\n",
    "        item_sim_matrix = cosine_similarity(user_item_matrix.T)\n",
    "        return predict_ratings_item_cf(user_idx, user_item_matrix, item_sim_matrix, movies, top_n, k)\n",
    "    else:\n",
    "        print(f\"LightFM for cold-start user {user_idx}\")\n",
    "        # Recommend top-N using LightFM\n",
    "        n_items = lfm_dataset.interactions_shape()[1]\n",
    "        scores = lfm_model.predict(user_idx, np.arange(n_items))\n",
    "        top_items = np.argsort(-scores)[:top_n]\n",
    "        return movies[movies[\"movie_idx\"].isin(top_items)][[\"movie_idx\", \"title\"]]\n"
   ]
  },
  {
   "cell_type": "code",
   "execution_count": 6,
   "id": "d03f3024-2f93-449f-93e9-9827ed1b5f93",
   "metadata": {},
   "outputs": [
    {
     "name": "stdin",
     "output_type": "stream",
     "text": [
      "Type 'user' for user recommendation or 'movie' for movie similarity:  user\n",
      "Enter user ID:  45\n",
      "Enter number of recommendations:  3\n"
     ]
    },
    {
     "name": "stdout",
     "output_type": "stream",
     "text": [
      "User CF for user 45\n"
     ]
    },
    {
     "data": {
      "text/html": [
       "<div>\n",
       "<style scoped>\n",
       "    .dataframe tbody tr th:only-of-type {\n",
       "        vertical-align: middle;\n",
       "    }\n",
       "\n",
       "    .dataframe tbody tr th {\n",
       "        vertical-align: top;\n",
       "    }\n",
       "\n",
       "    .dataframe thead th {\n",
       "        text-align: right;\n",
       "    }\n",
       "</style>\n",
       "<table border=\"1\" class=\"dataframe\">\n",
       "  <thead>\n",
       "    <tr style=\"text-align: right;\">\n",
       "      <th></th>\n",
       "      <th>movie_idx</th>\n",
       "      <th>title</th>\n",
       "    </tr>\n",
       "  </thead>\n",
       "  <tbody>\n",
       "    <tr>\n",
       "      <th>126</th>\n",
       "      <td>189</td>\n",
       "      <td>Godfather, The (1972)</td>\n",
       "    </tr>\n",
       "    <tr>\n",
       "      <th>203</th>\n",
       "      <td>247</td>\n",
       "      <td>Back to the Future (1985)</td>\n",
       "    </tr>\n",
       "    <tr>\n",
       "      <th>474</th>\n",
       "      <td>355</td>\n",
       "      <td>Trainspotting (1996)</td>\n",
       "    </tr>\n",
       "  </tbody>\n",
       "</table>\n",
       "</div>"
      ],
      "text/plain": [
       "     movie_idx                      title\n",
       "126        189      Godfather, The (1972)\n",
       "203        247  Back to the Future (1985)\n",
       "474        355       Trainspotting (1996)"
      ]
     },
     "metadata": {},
     "output_type": "display_data"
    }
   ],
   "source": [
    "query_type = input(\"Type 'user' for user recommendation or 'movie' for movie similarity: \").strip().lower()\n",
    "\n",
    "if query_type == \"user\":\n",
    "    user_input = int(input(\"Enter user ID: \"))\n",
    "    top_n = int(input(\"Enter number of recommendations: \"))\n",
    "    display(recommend_movies_hybrid(user_input, top_n=top_n, k=5))\n",
    "    \n",
    "elif query_type == \"movie\":\n",
    "    movie_input = input(\"Enter movie name: \")\n",
    "    top_n = int(input(\"Enter number of similar movies: \"))\n",
    "    display(recommend_similar_movies(movie_input, movies, item_embeddings, top_n=top_n))\n",
    "    \n",
    "else:\n",
    "    print(\"Invalid query type. Type 'user' or 'movie'.\")\n"
   ]
  },
  {
   "cell_type": "code",
   "execution_count": 8,
   "id": "7cd98494-3b2a-431f-907c-be2bda97b106",
   "metadata": {},
   "outputs": [
    {
     "name": "stdin",
     "output_type": "stream",
     "text": [
      "Type 'user' for user recommendation or 'movie' for movie similarity:  movie\n",
      "Enter movie name:  Back to the Future (1985)\n",
      "Enter number of similar movies:  3\n"
     ]
    },
    {
     "data": {
      "text/html": [
       "<div>\n",
       "<style scoped>\n",
       "    .dataframe tbody tr th:only-of-type {\n",
       "        vertical-align: middle;\n",
       "    }\n",
       "\n",
       "    .dataframe tbody tr th {\n",
       "        vertical-align: top;\n",
       "    }\n",
       "\n",
       "    .dataframe thead th {\n",
       "        text-align: right;\n",
       "    }\n",
       "</style>\n",
       "<table border=\"1\" class=\"dataframe\">\n",
       "  <thead>\n",
       "    <tr style=\"text-align: right;\">\n",
       "      <th></th>\n",
       "      <th>movie_idx</th>\n",
       "      <th>title</th>\n",
       "    </tr>\n",
       "  </thead>\n",
       "  <tbody>\n",
       "    <tr>\n",
       "      <th>27</th>\n",
       "      <td>471</td>\n",
       "      <td>Apollo 13 (1995)</td>\n",
       "    </tr>\n",
       "    <tr>\n",
       "      <th>201</th>\n",
       "      <td>179</td>\n",
       "      <td>Groundhog Day (1993)</td>\n",
       "    </tr>\n",
       "    <tr>\n",
       "      <th>422</th>\n",
       "      <td>57</td>\n",
       "      <td>E.T. the Extra-Terrestrial (1982)</td>\n",
       "    </tr>\n",
       "  </tbody>\n",
       "</table>\n",
       "</div>"
      ],
      "text/plain": [
       "     movie_idx                              title\n",
       "27         471                   Apollo 13 (1995)\n",
       "201        179               Groundhog Day (1993)\n",
       "422         57  E.T. the Extra-Terrestrial (1982)"
      ]
     },
     "metadata": {},
     "output_type": "display_data"
    }
   ],
   "source": [
    "query_type = input(\"Type 'user' for user recommendation or 'movie' for movie similarity: \").strip().lower()\n",
    "\n",
    "if query_type == \"user\":\n",
    "    user_input = int(input(\"Enter user ID: \"))\n",
    "    top_n = int(input(\"Enter number of recommendations: \"))\n",
    "    display(recommend_movies_hybrid(user_input, top_n=top_n, k=5))\n",
    "    \n",
    "elif query_type == \"movie\":\n",
    "    movie_input = input(\"Enter movie name: \")\n",
    "    top_n = int(input(\"Enter number of similar movies: \"))\n",
    "    display(recommend_similar_movies(movie_input, movies, item_embeddings, top_n=top_n))\n",
    "    \n",
    "else:\n",
    "    print(\"Invalid query type. Type 'user' or 'movie'.\")"
   ]
  },
  {
   "cell_type": "code",
   "execution_count": 9,
   "id": "4a554d03-95e0-4d2a-9d51-aa61517761a7",
   "metadata": {},
   "outputs": [],
   "source": [
    "#Visualization\n",
    "\n",
    "import matplotlib.pyplot as plt\n",
    "import seaborn as sns\n",
    "\n",
    "def plot_recommendations(recommendations_df, title=\"Top Recommendations\"):\n",
    "    \"\"\"\n",
    "    Plots top-N recommendations as a horizontal bar chart.\n",
    "    \"\"\"\n",
    "    if recommendations_df is None or recommendations_df.empty:\n",
    "        print(\"No recommendations to plot.\")\n",
    "        return\n",
    "    \n",
    "    # Since we don't have scores in the previous functions, we'll just assign rank-based score\n",
    "    recommendations_df = recommendations_df.copy()\n",
    "    recommendations_df[\"score\"] = np.arange(len(recommendations_df), 0, -1)\n",
    "    \n",
    "    plt.figure(figsize=(8, max(4, len(recommendations_df) * 0.5)))\n",
    "    sns.barplot(\n",
    "        x=\"score\", \n",
    "        y=\"title\", \n",
    "        data=recommendations_df, \n",
    "        palette=\"Oranges_r\"\n",
    "    )\n",
    "    plt.xlabel(\"Recommendation Score (rank)\")\n",
    "    plt.ylabel(\"Movie Title\")\n",
    "    plt.title(title)\n",
    "    plt.tight_layout()\n",
    "    plt.show()\n"
   ]
  },
  {
   "cell_type": "code",
   "execution_count": 10,
   "id": "87f6b3f8-3bb7-4b09-9618-ac14bc0c4a00",
   "metadata": {},
   "outputs": [
    {
     "name": "stdin",
     "output_type": "stream",
     "text": [
      "Type 'user' for user recommendation or 'movie' for movie similarity:  movie\n",
      "Enter movie name:  Groundhog Day (1993)\n",
      "Enter number of similar movies:  3\n"
     ]
    },
    {
     "name": "stdout",
     "output_type": "stream",
     "text": [
      "\n",
      "Top 3 movies similar to 'Groundhog Day (1993)':\n"
     ]
    },
    {
     "data": {
      "text/html": [
       "<div>\n",
       "<style scoped>\n",
       "    .dataframe tbody tr th:only-of-type {\n",
       "        vertical-align: middle;\n",
       "    }\n",
       "\n",
       "    .dataframe tbody tr th {\n",
       "        vertical-align: top;\n",
       "    }\n",
       "\n",
       "    .dataframe thead th {\n",
       "        text-align: right;\n",
       "    }\n",
       "</style>\n",
       "<table border=\"1\" class=\"dataframe\">\n",
       "  <thead>\n",
       "    <tr style=\"text-align: right;\">\n",
       "      <th></th>\n",
       "      <th>movie_idx</th>\n",
       "      <th>title</th>\n",
       "    </tr>\n",
       "  </thead>\n",
       "  <tbody>\n",
       "    <tr>\n",
       "      <th>27</th>\n",
       "      <td>471</td>\n",
       "      <td>Apollo 13 (1995)</td>\n",
       "    </tr>\n",
       "    <tr>\n",
       "      <th>203</th>\n",
       "      <td>247</td>\n",
       "      <td>Back to the Future (1985)</td>\n",
       "    </tr>\n",
       "    <tr>\n",
       "      <th>209</th>\n",
       "      <td>347</td>\n",
       "      <td>Indiana Jones and the Last Crusade (1989)</td>\n",
       "    </tr>\n",
       "  </tbody>\n",
       "</table>\n",
       "</div>"
      ],
      "text/plain": [
       "     movie_idx                                      title\n",
       "27         471                           Apollo 13 (1995)\n",
       "203        247                  Back to the Future (1985)\n",
       "209        347  Indiana Jones and the Last Crusade (1989)"
      ]
     },
     "metadata": {},
     "output_type": "display_data"
    },
    {
     "name": "stderr",
     "output_type": "stream",
     "text": [
      "/var/folders/gw/9hxr5ymd197gmq5xr15gtmd00000gn/T/ipykernel_55842/2828935028.py:19: FutureWarning: \n",
      "\n",
      "Passing `palette` without assigning `hue` is deprecated and will be removed in v0.14.0. Assign the `y` variable to `hue` and set `legend=False` for the same effect.\n",
      "\n",
      "  sns.barplot(\n"
     ]
    },
    {
     "data": {
      "image/png": "[encoded data removed]",
      "text/plain": [
       "<Figure size 800x400 with 1 Axes>"
      ]
     },
     "metadata": {},
     "output_type": "display_data"
    }
   ],
   "source": [
    "query_type = input(\"Type 'user' for user recommendation or 'movie' for movie similarity: \").strip().lower()\n",
    "\n",
    "if query_type == \"user\":\n",
    "    user_input = int(input(\"Enter user ID: \"))\n",
    "    top_n = int(input(\"Enter number of recommendations: \"))\n",
    "    recs = recommend_movies_hybrid(user_input, top_n=top_n, k=5)\n",
    "    print(f\"\\nTop {top_n} recommendations for User {user_input}:\")\n",
    "    display(recs)\n",
    "    plot_recommendations(recs, title=f\"User {user_input} Recommendations\")\n",
    "    \n",
    "elif query_type == \"movie\":\n",
    "    movie_input = input(\"Enter movie name: \")\n",
    "    top_n = int(input(\"Enter number of similar movies: \"))\n",
    "    recs = recommend_similar_movies(movie_input, movies, item_embeddings, top_n=top_n)\n",
    "    print(f\"\\nTop {top_n} movies similar to '{movie_input}':\")\n",
    "    display(recs)\n",
    "    plot_recommendations(recs, title=f\"Movies Similar to '{movie_input}'\")\n",
    "    \n",
    "else:\n",
    "    print(\"Invalid query type. Type 'user' or 'movie'.\")\n"
   ]
  },
  {
   "cell_type": "code",
   "execution_count": null,
   "id": "dd941f7c-2cef-46cd-aed2-73ead7d19087",
   "metadata": {},
   "outputs": [],
   "source": []
  }
 ],
 "metadata": {
  "kernelspec": {
   "display_name": "Python (preferee)",
   "language": "python",
   "name": "preferee-env"
  },
  "language_info": {
   "codemirror_mode": {
    "name": "ipython",
    "version": 3
   },
   "file_extension": ".py",
   "mimetype": "text/x-python",
   "name": "python",
   "nbconvert_exporter": "python",
   "pygments_lexer": "ipython3",
   "version": "3.11.13"
  }
 },
 "nbformat": 4,
 "nbformat_minor": 5
}
