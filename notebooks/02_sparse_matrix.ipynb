{
 "cells": [
  {
   "cell_type": "code",
   "execution_count": 1,
   "id": "d5d6dd72-c508-4280-887c-7e655f77d6af",
   "metadata": {},
   "outputs": [],
   "source": [
    "import pandas as pd\n",
    "from scipy.sparse import csr_matrix\n",
    "import os\n",
    "\n",
    "# Path to preprocessed data\n",
    "PROCESSED_DIR = \"../data/processed\"\n",
    "ratings_file = os.path.join(PROCESSED_DIR, \"ratings_processed.csv\")\n"
   ]
  },
  {
   "cell_type": "code",
   "execution_count": 3,
   "id": "f771c486-0f58-4151-a33c-3ec12805e18d",
   "metadata": {},
   "outputs": [
    {
     "name": "stdout",
     "output_type": "stream",
     "text": [
      "Index(['userId', 'movieId', 'rating', 'timestamp', 'user_idx', 'movie_idx',\n",
      "       'datetime'],\n",
      "      dtype='object')\n"
     ]
    },
    {
     "data": {
      "text/html": [
       "<div>\n",
       "<style scoped>\n",
       "    .dataframe tbody tr th:only-of-type {\n",
       "        vertical-align: middle;\n",
       "    }\n",
       "\n",
       "    .dataframe tbody tr th {\n",
       "        vertical-align: top;\n",
       "    }\n",
       "\n",
       "    .dataframe thead th {\n",
       "        text-align: right;\n",
       "    }\n",
       "</style>\n",
       "<table border=\"1\" class=\"dataframe\">\n",
       "  <thead>\n",
       "    <tr style=\"text-align: right;\">\n",
       "      <th></th>\n",
       "      <th>userId</th>\n",
       "      <th>movieId</th>\n",
       "      <th>rating</th>\n",
       "      <th>timestamp</th>\n",
       "      <th>user_idx</th>\n",
       "      <th>movie_idx</th>\n",
       "      <th>datetime</th>\n",
       "    </tr>\n",
       "  </thead>\n",
       "  <tbody>\n",
       "    <tr>\n",
       "      <th>0</th>\n",
       "      <td>196</td>\n",
       "      <td>242</td>\n",
       "      <td>3.0</td>\n",
       "      <td>881250949</td>\n",
       "      <td>0</td>\n",
       "      <td>0</td>\n",
       "      <td>1997-12-04 15:55:49</td>\n",
       "    </tr>\n",
       "    <tr>\n",
       "      <th>1</th>\n",
       "      <td>186</td>\n",
       "      <td>302</td>\n",
       "      <td>3.0</td>\n",
       "      <td>891717742</td>\n",
       "      <td>1</td>\n",
       "      <td>1</td>\n",
       "      <td>1998-04-04 19:22:22</td>\n",
       "    </tr>\n",
       "    <tr>\n",
       "      <th>2</th>\n",
       "      <td>22</td>\n",
       "      <td>377</td>\n",
       "      <td>1.0</td>\n",
       "      <td>878887116</td>\n",
       "      <td>2</td>\n",
       "      <td>2</td>\n",
       "      <td>1997-11-07 07:18:36</td>\n",
       "    </tr>\n",
       "    <tr>\n",
       "      <th>3</th>\n",
       "      <td>244</td>\n",
       "      <td>51</td>\n",
       "      <td>2.0</td>\n",
       "      <td>880606923</td>\n",
       "      <td>3</td>\n",
       "      <td>3</td>\n",
       "      <td>1997-11-27 05:02:03</td>\n",
       "    </tr>\n",
       "    <tr>\n",
       "      <th>4</th>\n",
       "      <td>166</td>\n",
       "      <td>346</td>\n",
       "      <td>1.0</td>\n",
       "      <td>886397596</td>\n",
       "      <td>4</td>\n",
       "      <td>4</td>\n",
       "      <td>1998-02-02 05:33:16</td>\n",
       "    </tr>\n",
       "  </tbody>\n",
       "</table>\n",
       "</div>"
      ],
      "text/plain": [
       "   userId  movieId  rating  timestamp  user_idx  movie_idx  \\\n",
       "0     196      242     3.0  881250949         0          0   \n",
       "1     186      302     3.0  891717742         1          1   \n",
       "2      22      377     1.0  878887116         2          2   \n",
       "3     244       51     2.0  880606923         3          3   \n",
       "4     166      346     1.0  886397596         4          4   \n",
       "\n",
       "              datetime  \n",
       "0  1997-12-04 15:55:49  \n",
       "1  1998-04-04 19:22:22  \n",
       "2  1997-11-07 07:18:36  \n",
       "3  1997-11-27 05:02:03  \n",
       "4  1998-02-02 05:33:16  "
      ]
     },
     "execution_count": 3,
     "metadata": {},
     "output_type": "execute_result"
    }
   ],
   "source": [
    "ratings = pd.read_csv(ratings_file)\n",
    "\n",
    "# Check columns\n",
    "print(ratings.columns)\n",
    "# Should have: ['userId', 'movieId', 'rating', 'user_idx', 'movie_idx']\n",
    "ratings.head()\n"
   ]
  },
  {
   "cell_type": "code",
   "execution_count": 4,
   "id": "dda6671d-2698-4c80-9736-da97eb6a2211",
   "metadata": {},
   "outputs": [
    {
     "name": "stdout",
     "output_type": "stream",
     "text": [
      "Sparse matrix shape: (943, 1682)\n"
     ]
    }
   ],
   "source": [
    "# Number of users and movies\n",
    "n_users = ratings[\"user_idx\"].nunique()\n",
    "n_movies = ratings[\"movie_idx\"].nunique()\n",
    "\n",
    "# Build CSR sparse matrix\n",
    "user_item_matrix = csr_matrix(\n",
    "    (ratings[\"rating\"], (ratings[\"user_idx\"], ratings[\"movie_idx\"])),\n",
    "    shape=(n_users, n_movies)\n",
    ")\n",
    "\n",
    "print(\"Sparse matrix shape:\", user_item_matrix.shape)\n"
   ]
  },
  {
   "cell_type": "code",
   "execution_count": 5,
   "id": "3797ffbe-ce0b-4e35-b0c9-e9c62e796483",
   "metadata": {},
   "outputs": [
    {
     "name": "stdout",
     "output_type": "stream",
     "text": [
      "Sparsity of the matrix: 93.70%\n"
     ]
    }
   ],
   "source": [
    "# Sparsity = percentage of empty entries\n",
    "sparsity = 100 * (1 - user_item_matrix.nnz / (n_users * n_movies))\n",
    "print(f\"Sparsity of the matrix: {sparsity:.2f}%\")\n"
   ]
  },
  {
   "cell_type": "code",
   "execution_count": 6,
   "id": "477531ee-68fe-40be-90f5-6ed977d89185",
   "metadata": {},
   "outputs": [
    {
     "name": "stdout",
     "output_type": "stream",
     "text": [
      "Sparse matrix saved at ../data/processed/user_item_matrix.pkl\n"
     ]
    }
   ],
   "source": [
    "import pickle\n",
    "\n",
    "sparse_file = os.path.join(PROCESSED_DIR, \"user_item_matrix.pkl\")\n",
    "with open(sparse_file, \"wb\") as f:\n",
    "    pickle.dump(user_item_matrix, f)\n",
    "\n",
    "print(f\"Sparse matrix saved at {sparse_file}\")\n"
   ]
  },
  {
   "cell_type": "code",
   "execution_count": null,
   "id": "6d3dd59e-a622-4079-bae9-c810daa5c9b0",
   "metadata": {},
   "outputs": [],
   "source": []
  }
 ],
 "metadata": {
  "kernelspec": {
   "display_name": "Python (preferee)",
   "language": "python",
   "name": "preferee-env"
  },
  "language_info": {
   "codemirror_mode": {
    "name": "ipython",
    "version": 3
   },
   "file_extension": ".py",
   "mimetype": "text/x-python",
   "name": "python",
   "nbconvert_exporter": "python",
   "pygments_lexer": "ipython3",
   "version": "3.11.13"
  }
 },
 "nbformat": 4,
 "nbformat_minor": 5
}
