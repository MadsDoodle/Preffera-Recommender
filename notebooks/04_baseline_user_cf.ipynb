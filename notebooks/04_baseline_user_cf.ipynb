{
 "cells": [
  {
   "cell_type": "code",
   "execution_count": 1,
   "id": "2dbdd9f3-6633-4601-835e-ade92bbb09f6",
   "metadata": {},
   "outputs": [],
   "source": [
    "import pandas as pd\n",
    "import numpy as np\n",
    "from scipy.sparse import csr_matrix\n",
    "from sklearn.metrics.pairwise import cosine_similarity\n",
    "import os\n",
    "import pickle\n",
    "\n",
    "# Paths\n",
    "PROCESSED_DIR = \"../data/processed\"\n",
    "ratings_file = os.path.join(PROCESSED_DIR, \"ratings_processed.csv\")\n",
    "movies_file = os.path.join(PROCESSED_DIR, \"movies_processed.csv\")\n",
    "sparse_file = os.path.join(PROCESSED_DIR, \"user_item_matrix.pkl\")\n"
   ]
  },
  {
   "cell_type": "code",
   "execution_count": 4,
   "id": "548707cf-a796-4e6a-8711-87441ea81d2e",
   "metadata": {},
   "outputs": [
    {
     "name": "stdout",
     "output_type": "stream",
     "text": [
      "Sparse matrix shape: (943, 1682)\n"
     ]
    }
   ],
   "source": [
    "# Load preprocessed data\n",
    "ratings = pd.read_csv(ratings_file)\n",
    "movies = pd.read_csv(movies_file)\n",
    "\n",
    "# Load sparse user-item matrix\n",
    "with open(sparse_file, \"rb\") as f:\n",
    "    user_item_matrix = pickle.load(f)\n",
    "\n",
    "print(\"Sparse matrix shape:\", user_item_matrix.shape)\n"
   ]
  },
  {
   "cell_type": "markdown",
   "id": "48a751ed-4da9-4798-bf5f-da2ebaa8fde4",
   "metadata": {},
   "source": [
    "ML-100K is small, so dense is fine. For large datasets, use sparse similarity or approximate nearest neighbors."
   ]
  },
  {
   "cell_type": "code",
   "execution_count": 5,
   "id": "2b680f67-3188-468a-bdfe-47358776880f",
   "metadata": {},
   "outputs": [
    {
     "name": "stdout",
     "output_type": "stream",
     "text": [
      "User similarity matrix shape: (943, 943)\n"
     ]
    }
   ],
   "source": [
    "# Compute cosine similarity between users\n",
    "# Convert sparse matrix to dense temporarily for similarity (small dataset)\n",
    "user_sim_matrix = cosine_similarity(user_item_matrix)\n",
    "\n",
    "print(\"User similarity matrix shape:\", user_sim_matrix.shape)\n"
   ]
  },
  {
   "cell_type": "code",
   "execution_count": 6,
   "id": "821d5962-cbdb-485a-9238-d784aa9ffff8",
   "metadata": {},
   "outputs": [],
   "source": [
    "def predict_ratings_user_cf(user_idx, top_n=10, k=5):\n",
    "    \"\"\"\n",
    "    Predict ratings for a user based on top-K similar users.\n",
    "    \"\"\"\n",
    "    # Get similarity scores for this user\n",
    "    sim_scores = user_sim_matrix[user_idx]\n",
    "    \n",
    "    # Find top-K similar users\n",
    "    top_k_users = np.argsort(sim_scores)[-k-1:-1][::-1]  # exclude self\n",
    "    \n",
    "    # Ratings of top-K users\n",
    "    top_ratings = user_item_matrix[top_k_users].toarray()\n",
    "    \n",
    "    # Similarity weights\n",
    "    top_sim = sim_scores[top_k_users].reshape(-1,1)\n",
    "    \n",
    "    # Weighted average\n",
    "    pred_ratings = (top_ratings * top_sim).sum(axis=0) / (top_sim.sum() + 1e-8)\n",
    "    \n",
    "    # Mask already rated movies\n",
    "    user_rated = user_item_matrix[user_idx].toarray().flatten() > 0\n",
    "    pred_ratings[user_rated] = 0\n",
    "    \n",
    "    # Get top-N recommendations\n",
    "    top_movie_idx = np.argsort(pred_ratings)[-top_n:][::-1]\n",
    "    recommendations = movies[movies[\"movie_idx\"].isin(top_movie_idx)]\n",
    "    \n",
    "    return recommendations[[\"movie_idx\", \"title\"]].head(top_n)\n"
   ]
  },
  {
   "cell_type": "code",
   "execution_count": 7,
   "id": "a5276533-637b-4f13-b3ff-6e99ecb974a9",
   "metadata": {},
   "outputs": [
    {
     "data": {
      "text/html": [
       "<div>\n",
       "<style scoped>\n",
       "    .dataframe tbody tr th:only-of-type {\n",
       "        vertical-align: middle;\n",
       "    }\n",
       "\n",
       "    .dataframe tbody tr th {\n",
       "        vertical-align: top;\n",
       "    }\n",
       "\n",
       "    .dataframe thead th {\n",
       "        text-align: right;\n",
       "    }\n",
       "</style>\n",
       "<table border=\"1\" class=\"dataframe\">\n",
       "  <thead>\n",
       "    <tr style=\"text-align: right;\">\n",
       "      <th></th>\n",
       "      <th>movie_idx</th>\n",
       "      <th>title</th>\n",
       "    </tr>\n",
       "  </thead>\n",
       "  <tbody>\n",
       "    <tr>\n",
       "      <th>63</th>\n",
       "      <td>239</td>\n",
       "      <td>Shawshank Redemption, The (1994)</td>\n",
       "    </tr>\n",
       "    <tr>\n",
       "      <th>116</th>\n",
       "      <td>140</td>\n",
       "      <td>Rock, The (1996)</td>\n",
       "    </tr>\n",
       "    <tr>\n",
       "      <th>190</th>\n",
       "      <td>254</td>\n",
       "      <td>Amadeus (1984)</td>\n",
       "    </tr>\n",
       "    <tr>\n",
       "      <th>215</th>\n",
       "      <td>166</td>\n",
       "      <td>When Harry Met Sally... (1989)</td>\n",
       "    </tr>\n",
       "    <tr>\n",
       "      <th>233</th>\n",
       "      <td>29</td>\n",
       "      <td>Jaws (1975)</td>\n",
       "    </tr>\n",
       "    <tr>\n",
       "      <th>514</th>\n",
       "      <td>58</td>\n",
       "      <td>Boot, Das (1981)</td>\n",
       "    </tr>\n",
       "    <tr>\n",
       "      <th>519</th>\n",
       "      <td>230</td>\n",
       "      <td>Great Escape, The (1963)</td>\n",
       "    </tr>\n",
       "    <tr>\n",
       "      <th>565</th>\n",
       "      <td>476</td>\n",
       "      <td>Clear and Present Danger (1994)</td>\n",
       "    </tr>\n",
       "    <tr>\n",
       "      <th>658</th>\n",
       "      <td>488</td>\n",
       "      <td>Arsenic and Old Lace (1944)</td>\n",
       "    </tr>\n",
       "    <tr>\n",
       "      <th>662</th>\n",
       "      <td>550</td>\n",
       "      <td>Being There (1979)</td>\n",
       "    </tr>\n",
       "  </tbody>\n",
       "</table>\n",
       "</div>"
      ],
      "text/plain": [
       "     movie_idx                             title\n",
       "63         239  Shawshank Redemption, The (1994)\n",
       "116        140                  Rock, The (1996)\n",
       "190        254                    Amadeus (1984)\n",
       "215        166    When Harry Met Sally... (1989)\n",
       "233         29                       Jaws (1975)\n",
       "514         58                  Boot, Das (1981)\n",
       "519        230          Great Escape, The (1963)\n",
       "565        476   Clear and Present Danger (1994)\n",
       "658        488       Arsenic and Old Lace (1944)\n",
       "662        550                Being There (1979)"
      ]
     },
     "execution_count": 7,
     "metadata": {},
     "output_type": "execute_result"
    }
   ],
   "source": [
    "# Example: Recommend top 10 movies for user_idx 5\n",
    "recommendations = predict_ratings_user_cf(user_idx=5, top_n=10, k=5)\n",
    "recommendations\n"
   ]
  },
  {
   "cell_type": "code",
   "execution_count": null,
   "id": "42aff244-e5c2-4ff7-a9b0-b1e25e8f3ae5",
   "metadata": {},
   "outputs": [],
   "source": [
    "\n"
   ]
  },
  {
   "cell_type": "code",
   "execution_count": null,
   "id": "093fed65-f49b-463a-aea5-c39684e48d48",
   "metadata": {},
   "outputs": [],
   "source": [
    "\n"
   ]
  },
  {
   "cell_type": "code",
   "execution_count": null,
   "id": "6bdfde2d-4ecd-47b7-9bbf-1be0fe9305b2",
   "metadata": {},
   "outputs": [],
   "source": []
  }
 ],
 "metadata": {
  "kernelspec": {
   "display_name": "Python (preferee)",
   "language": "python",
   "name": "preferee-env"
  },
  "language_info": {
   "codemirror_mode": {
    "name": "ipython",
    "version": 3
   },
   "file_extension": ".py",
   "mimetype": "text/x-python",
   "name": "python",
   "nbconvert_exporter": "python",
   "pygments_lexer": "ipython3",
   "version": "3.11.13"
  }
 },
 "nbformat": 4,
 "nbformat_minor": 5
}
