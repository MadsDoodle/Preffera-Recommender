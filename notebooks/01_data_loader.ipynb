{
 "cells": [
  {
   "cell_type": "code",
   "execution_count": 1,
   "id": "b189e486-cc98-44ac-9e48-379799276192",
   "metadata": {},
   "outputs": [
    {
     "name": "stdout",
     "output_type": "stream",
     "text": [
      "Python 3.11.13\n"
     ]
    }
   ],
   "source": [
    "!python --version\n"
   ]
  },
  {
   "cell_type": "code",
   "execution_count": 2,
   "id": "30495777-70b7-47d3-8c5f-acb7f7d63b4c",
   "metadata": {},
   "outputs": [],
   "source": [
    "import os\n",
    "import pandas as pd\n",
    "\n",
    "# Path to the extracted dataset\n",
    "DATA_DIR = \"../data/ml-100k\"  # adjust path if needed\n"
   ]
  },
  {
   "cell_type": "code",
   "execution_count": 3,
   "id": "5ccd708f-875c-4f32-a9ff-bbf9427af099",
   "metadata": {},
   "outputs": [
    {
     "data": {
      "text/html": [
       "<div>\n",
       "<style scoped>\n",
       "    .dataframe tbody tr th:only-of-type {\n",
       "        vertical-align: middle;\n",
       "    }\n",
       "\n",
       "    .dataframe tbody tr th {\n",
       "        vertical-align: top;\n",
       "    }\n",
       "\n",
       "    .dataframe thead th {\n",
       "        text-align: right;\n",
       "    }\n",
       "</style>\n",
       "<table border=\"1\" class=\"dataframe\">\n",
       "  <thead>\n",
       "    <tr style=\"text-align: right;\">\n",
       "      <th></th>\n",
       "      <th>userId</th>\n",
       "      <th>movieId</th>\n",
       "      <th>rating</th>\n",
       "      <th>timestamp</th>\n",
       "    </tr>\n",
       "  </thead>\n",
       "  <tbody>\n",
       "    <tr>\n",
       "      <th>0</th>\n",
       "      <td>196</td>\n",
       "      <td>242</td>\n",
       "      <td>3.0</td>\n",
       "      <td>881250949</td>\n",
       "    </tr>\n",
       "    <tr>\n",
       "      <th>1</th>\n",
       "      <td>186</td>\n",
       "      <td>302</td>\n",
       "      <td>3.0</td>\n",
       "      <td>891717742</td>\n",
       "    </tr>\n",
       "    <tr>\n",
       "      <th>2</th>\n",
       "      <td>22</td>\n",
       "      <td>377</td>\n",
       "      <td>1.0</td>\n",
       "      <td>878887116</td>\n",
       "    </tr>\n",
       "    <tr>\n",
       "      <th>3</th>\n",
       "      <td>244</td>\n",
       "      <td>51</td>\n",
       "      <td>2.0</td>\n",
       "      <td>880606923</td>\n",
       "    </tr>\n",
       "    <tr>\n",
       "      <th>4</th>\n",
       "      <td>166</td>\n",
       "      <td>346</td>\n",
       "      <td>1.0</td>\n",
       "      <td>886397596</td>\n",
       "    </tr>\n",
       "  </tbody>\n",
       "</table>\n",
       "</div>"
      ],
      "text/plain": [
       "   userId  movieId  rating  timestamp\n",
       "0     196      242     3.0  881250949\n",
       "1     186      302     3.0  891717742\n",
       "2      22      377     1.0  878887116\n",
       "3     244       51     2.0  880606923\n",
       "4     166      346     1.0  886397596"
      ]
     },
     "execution_count": 3,
     "metadata": {},
     "output_type": "execute_result"
    }
   ],
   "source": [
    "#load movie ratings\n",
    "ratings_path = os.path.join(DATA_DIR, \"u.data\")\n",
    "\n",
    "ratings = pd.read_csv(\n",
    "    ratings_path,\n",
    "    sep=\"\\t\",\n",
    "    names=[\"userId\", \"movieId\", \"rating\", \"timestamp\"],\n",
    "    dtype={\"userId\": \"int32\", \"movieId\": \"int32\", \"rating\": \"float32\", \"timestamp\": \"int64\"}\n",
    ")\n",
    "\n",
    "# Quick look\n",
    "ratings.head()\n"
   ]
  },
  {
   "cell_type": "code",
   "execution_count": 4,
   "id": "b16ec22d-f36c-4763-a066-ce987e53ca7f",
   "metadata": {},
   "outputs": [
    {
     "data": {
      "text/html": [
       "<div>\n",
       "<style scoped>\n",
       "    .dataframe tbody tr th:only-of-type {\n",
       "        vertical-align: middle;\n",
       "    }\n",
       "\n",
       "    .dataframe tbody tr th {\n",
       "        vertical-align: top;\n",
       "    }\n",
       "\n",
       "    .dataframe thead th {\n",
       "        text-align: right;\n",
       "    }\n",
       "</style>\n",
       "<table border=\"1\" class=\"dataframe\">\n",
       "  <thead>\n",
       "    <tr style=\"text-align: right;\">\n",
       "      <th></th>\n",
       "      <th>movieId</th>\n",
       "      <th>title</th>\n",
       "      <th>release_date</th>\n",
       "      <th>imdb_url</th>\n",
       "    </tr>\n",
       "  </thead>\n",
       "  <tbody>\n",
       "    <tr>\n",
       "      <th>0</th>\n",
       "      <td>1</td>\n",
       "      <td>Toy Story (1995)</td>\n",
       "      <td>01-Jan-1995</td>\n",
       "      <td>http://us.imdb.com/M/title-exact?Toy%20Story%2...</td>\n",
       "    </tr>\n",
       "    <tr>\n",
       "      <th>1</th>\n",
       "      <td>2</td>\n",
       "      <td>GoldenEye (1995)</td>\n",
       "      <td>01-Jan-1995</td>\n",
       "      <td>http://us.imdb.com/M/title-exact?GoldenEye%20(...</td>\n",
       "    </tr>\n",
       "    <tr>\n",
       "      <th>2</th>\n",
       "      <td>3</td>\n",
       "      <td>Four Rooms (1995)</td>\n",
       "      <td>01-Jan-1995</td>\n",
       "      <td>http://us.imdb.com/M/title-exact?Four%20Rooms%...</td>\n",
       "    </tr>\n",
       "    <tr>\n",
       "      <th>3</th>\n",
       "      <td>4</td>\n",
       "      <td>Get Shorty (1995)</td>\n",
       "      <td>01-Jan-1995</td>\n",
       "      <td>http://us.imdb.com/M/title-exact?Get%20Shorty%...</td>\n",
       "    </tr>\n",
       "    <tr>\n",
       "      <th>4</th>\n",
       "      <td>5</td>\n",
       "      <td>Copycat (1995)</td>\n",
       "      <td>01-Jan-1995</td>\n",
       "      <td>http://us.imdb.com/M/title-exact?Copycat%20(1995)</td>\n",
       "    </tr>\n",
       "  </tbody>\n",
       "</table>\n",
       "</div>"
      ],
      "text/plain": [
       "   movieId              title release_date  \\\n",
       "0        1   Toy Story (1995)  01-Jan-1995   \n",
       "1        2   GoldenEye (1995)  01-Jan-1995   \n",
       "2        3  Four Rooms (1995)  01-Jan-1995   \n",
       "3        4  Get Shorty (1995)  01-Jan-1995   \n",
       "4        5     Copycat (1995)  01-Jan-1995   \n",
       "\n",
       "                                            imdb_url  \n",
       "0  http://us.imdb.com/M/title-exact?Toy%20Story%2...  \n",
       "1  http://us.imdb.com/M/title-exact?GoldenEye%20(...  \n",
       "2  http://us.imdb.com/M/title-exact?Four%20Rooms%...  \n",
       "3  http://us.imdb.com/M/title-exact?Get%20Shorty%...  \n",
       "4  http://us.imdb.com/M/title-exact?Copycat%20(1995)  "
      ]
     },
     "execution_count": 4,
     "metadata": {},
     "output_type": "execute_result"
    }
   ],
   "source": [
    "#load movie metadata\n",
    "movies_path = os.path.join(DATA_DIR, \"u.item\")\n",
    "\n",
    "movies = pd.read_csv(\n",
    "    movies_path,\n",
    "    sep=\"|\",\n",
    "    header=None,\n",
    "    encoding=\"latin-1\",\n",
    "    usecols=[0, 1, 2, 4],  # movieId, title, release_date, imdb_url\n",
    "    names=[\"movieId\", \"title\", \"release_date\", \"imdb_url\"]\n",
    ")\n",
    "\n",
    "movies[\"movieId\"] = movies[\"movieId\"].astype(\"int32\")\n",
    "\n",
    "# Quick look\n",
    "movies.head()\n"
   ]
  },
  {
   "cell_type": "markdown",
   "id": "50912771-1685-422f-bc1b-8dfdf16bc51b",
   "metadata": {},
   "source": [
    "## EDA"
   ]
  },
  {
   "cell_type": "code",
   "execution_count": 5,
   "id": "1924a888-afce-4d91-b61a-e5bee55dca92",
   "metadata": {},
   "outputs": [
    {
     "name": "stdout",
     "output_type": "stream",
     "text": [
      "Users: 943, Movies: 1682, Ratings: 100000\n",
      "rating\n",
      "1.0     6110\n",
      "2.0    11370\n",
      "3.0    27145\n",
      "4.0    34174\n",
      "5.0    21201\n",
      "Name: count, dtype: int64\n",
      "Duplicate rows: 0\n",
      "Missing values: {'userId': 0, 'movieId': 0, 'rating': 0, 'timestamp': 0}\n"
     ]
    }
   ],
   "source": [
    "# Basic info\n",
    "n_users = ratings[\"userId\"].nunique()\n",
    "n_movies = ratings[\"movieId\"].nunique()\n",
    "n_ratings = len(ratings)\n",
    "\n",
    "print(f\"Users: {n_users}, Movies: {n_movies}, Ratings: {n_ratings}\")\n",
    "\n",
    "# Rating distribution\n",
    "print(ratings[\"rating\"].value_counts().sort_index())\n",
    "\n",
    "# Check duplicates and missing values\n",
    "print(\"Duplicate rows:\", ratings.duplicated().sum())\n",
    "print(\"Missing values:\", ratings.isna().sum().to_dict())\n"
   ]
  },
  {
   "cell_type": "code",
   "execution_count": 6,
   "id": "290a0d1f-da90-46d1-9468-e24bf76e86a2",
   "metadata": {},
   "outputs": [
    {
     "name": "stdout",
     "output_type": "stream",
     "text": [
      "Ratings DataFrame Info:\n",
      "<class 'pandas.core.frame.DataFrame'>\n",
      "RangeIndex: 100000 entries, 0 to 99999\n",
      "Data columns (total 4 columns):\n",
      " #   Column     Non-Null Count   Dtype  \n",
      "---  ------     --------------   -----  \n",
      " 0   userId     100000 non-null  int32  \n",
      " 1   movieId    100000 non-null  int32  \n",
      " 2   rating     100000 non-null  float32\n",
      " 3   timestamp  100000 non-null  int64  \n",
      "dtypes: float32(1), int32(2), int64(1)\n",
      "memory usage: 1.9 MB\n",
      "\n",
      "Movies DataFrame Info:\n",
      "<class 'pandas.core.frame.DataFrame'>\n",
      "RangeIndex: 1682 entries, 0 to 1681\n",
      "Data columns (total 4 columns):\n",
      " #   Column        Non-Null Count  Dtype \n",
      "---  ------        --------------  ----- \n",
      " 0   movieId       1682 non-null   int32 \n",
      " 1   title         1682 non-null   object\n",
      " 2   release_date  1681 non-null   object\n",
      " 3   imdb_url      1679 non-null   object\n",
      "dtypes: int32(1), object(3)\n",
      "memory usage: 46.1+ KB\n"
     ]
    }
   ],
   "source": [
    "# Ratings info\n",
    "print(\"Ratings DataFrame Info:\")\n",
    "ratings.info()\n",
    "\n",
    "# Movies info\n",
    "print(\"\\nMovies DataFrame Info:\")\n",
    "movies.info()\n"
   ]
  },
  {
   "cell_type": "code",
   "execution_count": 7,
   "id": "393e5718-ebeb-44df-a2d5-a8072d27fb17",
   "metadata": {},
   "outputs": [
    {
     "name": "stdout",
     "output_type": "stream",
     "text": [
      "Number of users: 943\n",
      "Number of movies: 1682\n",
      "Total ratings: 100000\n"
     ]
    }
   ],
   "source": [
    "n_users = ratings[\"userId\"].nunique()\n",
    "n_movies = ratings[\"movieId\"].nunique()\n",
    "n_ratings = len(ratings)\n",
    "\n",
    "print(f\"Number of users: {n_users}\")\n",
    "print(f\"Number of movies: {n_movies}\")\n",
    "print(f\"Total ratings: {n_ratings}\")\n"
   ]
  },
  {
   "cell_type": "code",
   "execution_count": 8,
   "id": "4254af3b-9f63-4bb0-8fc8-1f9430be52ff",
   "metadata": {},
   "outputs": [
    {
     "data": {
      "image/png": "[encoded data removed]",
      "text/plain": [
       "<Figure size 800x500 with 1 Axes>"
      ]
     },
     "metadata": {},
     "output_type": "display_data"
    }
   ],
   "source": [
    "import matplotlib.pyplot as plt\n",
    "import seaborn as sns\n",
    "\n",
    "plt.figure(figsize=(8,5))\n",
    "sns.countplot(x=\"rating\", data=ratings)\n",
    "plt.title(\"Rating Distribution\")\n",
    "plt.xlabel(\"Rating\")\n",
    "plt.ylabel(\"Count\")\n",
    "plt.show()\n"
   ]
  },
  {
   "cell_type": "code",
   "execution_count": 9,
   "id": "8f8fc025-87bb-4b5a-aa41-4f508eaa4005",
   "metadata": {},
   "outputs": [
    {
     "data": {
      "image/png": "[encoded data removed]",
      "text/plain": [
       "<Figure size 800x500 with 1 Axes>"
      ]
     },
     "metadata": {},
     "output_type": "display_data"
    },
    {
     "name": "stdout",
     "output_type": "stream",
     "text": [
      "Stats per user:\n",
      "count    943.000000\n",
      "mean     106.044539\n",
      "std      100.931743\n",
      "min       20.000000\n",
      "25%       33.000000\n",
      "50%       65.000000\n",
      "75%      148.000000\n",
      "max      737.000000\n",
      "Name: rating, dtype: float64\n"
     ]
    }
   ],
   "source": [
    "ratings_per_user = ratings.groupby(\"userId\")[\"rating\"].count()\n",
    "\n",
    "plt.figure(figsize=(8,5))\n",
    "sns.histplot(ratings_per_user, bins=30, kde=False)\n",
    "plt.title(\"Number of Ratings per User\")\n",
    "plt.xlabel(\"Ratings per User\")\n",
    "plt.ylabel(\"Number of Users\")\n",
    "plt.show()\n",
    "\n",
    "print(\"Stats per user:\")\n",
    "print(ratings_per_user.describe())\n"
   ]
  },
  {
   "cell_type": "code",
   "execution_count": 10,
   "id": "9539a7a2-8334-47d8-b0fb-9575ca0e6815",
   "metadata": {},
   "outputs": [
    {
     "data": {
      "image/png": "[encoded data removed]",
      "text/plain": [
       "<Figure size 800x500 with 1 Axes>"
      ]
     },
     "metadata": {},
     "output_type": "display_data"
    },
    {
     "name": "stdout",
     "output_type": "stream",
     "text": [
      "Stats per movie:\n",
      "count    1682.000000\n",
      "mean       59.453032\n",
      "std        80.383846\n",
      "min         1.000000\n",
      "25%         6.000000\n",
      "50%        27.000000\n",
      "75%        80.000000\n",
      "max       583.000000\n",
      "Name: rating, dtype: float64\n"
     ]
    }
   ],
   "source": [
    "ratings_per_movie = ratings.groupby(\"movieId\")[\"rating\"].count()\n",
    "\n",
    "plt.figure(figsize=(8,5))\n",
    "sns.histplot(ratings_per_movie, bins=30, kde=False)\n",
    "plt.title(\"Number of Ratings per Movie\")\n",
    "plt.xlabel(\"Ratings per Movie\")\n",
    "plt.ylabel(\"Number of Movies\")\n",
    "plt.show()\n",
    "\n",
    "print(\"Stats per movie:\")\n",
    "print(ratings_per_movie.describe())\n"
   ]
  },
  {
   "cell_type": "code",
   "execution_count": 11,
   "id": "43620ff1-e5f0-46b4-91a1-33cc1a6366d8",
   "metadata": {},
   "outputs": [
    {
     "data": {
      "image/png": "[encoded data removed]",
      "text/plain": [
       "<Figure size 800x500 with 1 Axes>"
      ]
     },
     "metadata": {},
     "output_type": "display_data"
    }
   ],
   "source": [
    "avg_rating_per_movie = ratings.groupby(\"movieId\")[\"rating\"].mean()\n",
    "\n",
    "plt.figure(figsize=(8,5))\n",
    "sns.histplot(avg_rating_per_movie, bins=30, kde=False)\n",
    "plt.title(\"Average Rating per Movie\")\n",
    "plt.xlabel(\"Average Rating\")\n",
    "plt.ylabel(\"Number of Movies\")\n",
    "plt.show()\n"
   ]
  },
  {
   "cell_type": "code",
   "execution_count": 12,
   "id": "b708f3d4-4960-492b-aebe-1842bc68b07c",
   "metadata": {},
   "outputs": [
    {
     "name": "stdout",
     "output_type": "stream",
     "text": [
      "Top 10 most rated movies:\n"
     ]
    },
    {
     "data": {
      "text/html": [
       "<div>\n",
       "<style scoped>\n",
       "    .dataframe tbody tr th:only-of-type {\n",
       "        vertical-align: middle;\n",
       "    }\n",
       "\n",
       "    .dataframe tbody tr th {\n",
       "        vertical-align: top;\n",
       "    }\n",
       "\n",
       "    .dataframe thead th {\n",
       "        text-align: right;\n",
       "    }\n",
       "</style>\n",
       "<table border=\"1\" class=\"dataframe\">\n",
       "  <thead>\n",
       "    <tr style=\"text-align: right;\">\n",
       "      <th></th>\n",
       "      <th>title</th>\n",
       "      <th>rating</th>\n",
       "    </tr>\n",
       "  </thead>\n",
       "  <tbody>\n",
       "    <tr>\n",
       "      <th>0</th>\n",
       "      <td>Star Wars (1977)</td>\n",
       "      <td>583</td>\n",
       "    </tr>\n",
       "    <tr>\n",
       "      <th>1</th>\n",
       "      <td>Contact (1997)</td>\n",
       "      <td>509</td>\n",
       "    </tr>\n",
       "    <tr>\n",
       "      <th>2</th>\n",
       "      <td>Fargo (1996)</td>\n",
       "      <td>508</td>\n",
       "    </tr>\n",
       "    <tr>\n",
       "      <th>3</th>\n",
       "      <td>Return of the Jedi (1983)</td>\n",
       "      <td>507</td>\n",
       "    </tr>\n",
       "    <tr>\n",
       "      <th>4</th>\n",
       "      <td>Liar Liar (1997)</td>\n",
       "      <td>485</td>\n",
       "    </tr>\n",
       "    <tr>\n",
       "      <th>5</th>\n",
       "      <td>English Patient, The (1996)</td>\n",
       "      <td>481</td>\n",
       "    </tr>\n",
       "    <tr>\n",
       "      <th>6</th>\n",
       "      <td>Scream (1996)</td>\n",
       "      <td>478</td>\n",
       "    </tr>\n",
       "    <tr>\n",
       "      <th>7</th>\n",
       "      <td>Toy Story (1995)</td>\n",
       "      <td>452</td>\n",
       "    </tr>\n",
       "    <tr>\n",
       "      <th>8</th>\n",
       "      <td>Air Force One (1997)</td>\n",
       "      <td>431</td>\n",
       "    </tr>\n",
       "    <tr>\n",
       "      <th>9</th>\n",
       "      <td>Independence Day (ID4) (1996)</td>\n",
       "      <td>429</td>\n",
       "    </tr>\n",
       "  </tbody>\n",
       "</table>\n",
       "</div>"
      ],
      "text/plain": [
       "                           title  rating\n",
       "0               Star Wars (1977)     583\n",
       "1                 Contact (1997)     509\n",
       "2                   Fargo (1996)     508\n",
       "3      Return of the Jedi (1983)     507\n",
       "4               Liar Liar (1997)     485\n",
       "5    English Patient, The (1996)     481\n",
       "6                  Scream (1996)     478\n",
       "7               Toy Story (1995)     452\n",
       "8           Air Force One (1997)     431\n",
       "9  Independence Day (ID4) (1996)     429"
      ]
     },
     "execution_count": 12,
     "metadata": {},
     "output_type": "execute_result"
    }
   ],
   "source": [
    "top_movies = ratings.groupby(\"movieId\")[\"rating\"].count().sort_values(ascending=False).head(10)\n",
    "top_movies = top_movies.reset_index().merge(movies, on=\"movieId\")\n",
    "\n",
    "print(\"Top 10 most rated movies:\")\n",
    "top_movies[[\"title\", \"rating\"]]\n"
   ]
  },
  {
   "cell_type": "markdown",
   "id": "94fa4098-24b2-408b-9483-6e657c33119a",
   "metadata": {},
   "source": [
    "## PREPROCESSING"
   ]
  },
  {
   "cell_type": "code",
   "execution_count": 13,
   "id": "3870e519-1d8a-4c26-ae0e-21e6081a39f9",
   "metadata": {},
   "outputs": [],
   "source": [
    "RAW_DATA_DIR = \"../data/ml-100k\"\n",
    "PROCESSED_DIR = \"../data/processed\"\n",
    "os.makedirs(PROCESSED_DIR, exist_ok=True)"
   ]
  },
  {
   "cell_type": "code",
   "execution_count": 14,
   "id": "675e3d6d-2223-4bc7-8ae3-ee428ea001dd",
   "metadata": {},
   "outputs": [],
   "source": [
    "# Load ratings\n",
    "ratings_path = os.path.join(RAW_DATA_DIR, \"u.data\")\n",
    "ratings = pd.read_csv(\n",
    "    ratings_path,\n",
    "    sep=\"\\t\",\n",
    "    names=[\"userId\", \"movieId\", \"rating\", \"timestamp\"],\n",
    "    dtype={\"userId\": \"int32\", \"movieId\": \"int32\", \"rating\": \"float32\", \"timestamp\": \"int64\"}\n",
    ")\n",
    "\n",
    "# Load movies\n",
    "movies_path = os.path.join(RAW_DATA_DIR, \"u.item\")\n",
    "movies = pd.read_csv(\n",
    "    movies_path,\n",
    "    sep=\"|\",\n",
    "    header=None,\n",
    "    encoding=\"latin-1\",\n",
    "    usecols=[0, 1, 2, 4],\n",
    "    names=[\"movieId\", \"title\", \"release_date\", \"imdb_url\"]\n",
    ")\n",
    "movies[\"movieId\"] = movies[\"movieId\"].astype(\"int32\")\n"
   ]
  },
  {
   "cell_type": "code",
   "execution_count": 15,
   "id": "98ae13ad-e8d5-4c41-aa86-7c7eceeded19",
   "metadata": {},
   "outputs": [
    {
     "name": "stdout",
     "output_type": "stream",
     "text": [
      "Ratings shape: (100000, 4)\n",
      "Movies shape: (1682, 4)\n"
     ]
    }
   ],
   "source": [
    "# Dataset shapes\n",
    "print(\"Ratings shape:\", ratings.shape)\n",
    "print(\"Movies shape:\", movies.shape)"
   ]
  },
  {
   "cell_type": "code",
   "execution_count": 16,
   "id": "ab8d52b5-45f7-49a4-9ee9-b67d8b4396a7",
   "metadata": {},
   "outputs": [
    {
     "data": {
      "text/html": [
       "<div>\n",
       "<style scoped>\n",
       "    .dataframe tbody tr th:only-of-type {\n",
       "        vertical-align: middle;\n",
       "    }\n",
       "\n",
       "    .dataframe tbody tr th {\n",
       "        vertical-align: top;\n",
       "    }\n",
       "\n",
       "    .dataframe thead th {\n",
       "        text-align: right;\n",
       "    }\n",
       "</style>\n",
       "<table border=\"1\" class=\"dataframe\">\n",
       "  <thead>\n",
       "    <tr style=\"text-align: right;\">\n",
       "      <th></th>\n",
       "      <th>movieId</th>\n",
       "      <th>title</th>\n",
       "      <th>release_date</th>\n",
       "      <th>imdb_url</th>\n",
       "    </tr>\n",
       "  </thead>\n",
       "  <tbody>\n",
       "    <tr>\n",
       "      <th>0</th>\n",
       "      <td>1</td>\n",
       "      <td>Toy Story (1995)</td>\n",
       "      <td>01-Jan-1995</td>\n",
       "      <td>http://us.imdb.com/M/title-exact?Toy%20Story%2...</td>\n",
       "    </tr>\n",
       "    <tr>\n",
       "      <th>1</th>\n",
       "      <td>2</td>\n",
       "      <td>GoldenEye (1995)</td>\n",
       "      <td>01-Jan-1995</td>\n",
       "      <td>http://us.imdb.com/M/title-exact?GoldenEye%20(...</td>\n",
       "    </tr>\n",
       "    <tr>\n",
       "      <th>2</th>\n",
       "      <td>3</td>\n",
       "      <td>Four Rooms (1995)</td>\n",
       "      <td>01-Jan-1995</td>\n",
       "      <td>http://us.imdb.com/M/title-exact?Four%20Rooms%...</td>\n",
       "    </tr>\n",
       "    <tr>\n",
       "      <th>3</th>\n",
       "      <td>4</td>\n",
       "      <td>Get Shorty (1995)</td>\n",
       "      <td>01-Jan-1995</td>\n",
       "      <td>http://us.imdb.com/M/title-exact?Get%20Shorty%...</td>\n",
       "    </tr>\n",
       "    <tr>\n",
       "      <th>4</th>\n",
       "      <td>5</td>\n",
       "      <td>Copycat (1995)</td>\n",
       "      <td>01-Jan-1995</td>\n",
       "      <td>http://us.imdb.com/M/title-exact?Copycat%20(1995)</td>\n",
       "    </tr>\n",
       "  </tbody>\n",
       "</table>\n",
       "</div>"
      ],
      "text/plain": [
       "   movieId              title release_date  \\\n",
       "0        1   Toy Story (1995)  01-Jan-1995   \n",
       "1        2   GoldenEye (1995)  01-Jan-1995   \n",
       "2        3  Four Rooms (1995)  01-Jan-1995   \n",
       "3        4  Get Shorty (1995)  01-Jan-1995   \n",
       "4        5     Copycat (1995)  01-Jan-1995   \n",
       "\n",
       "                                            imdb_url  \n",
       "0  http://us.imdb.com/M/title-exact?Toy%20Story%2...  \n",
       "1  http://us.imdb.com/M/title-exact?GoldenEye%20(...  \n",
       "2  http://us.imdb.com/M/title-exact?Four%20Rooms%...  \n",
       "3  http://us.imdb.com/M/title-exact?Get%20Shorty%...  \n",
       "4  http://us.imdb.com/M/title-exact?Copycat%20(1995)  "
      ]
     },
     "execution_count": 16,
     "metadata": {},
     "output_type": "execute_result"
    }
   ],
   "source": [
    "movies.head()"
   ]
  },
  {
   "cell_type": "code",
   "execution_count": 17,
   "id": "73819808-9f69-45ce-9308-d8b95d5b06d6",
   "metadata": {},
   "outputs": [],
   "source": [
    "# Remove duplicates & NAs\n",
    "ratings = ratings.drop_duplicates().dropna()\n",
    "\n",
    "# Map userId and movieId to zero-based indices\n",
    "user_id_map = {old: new for new, old in enumerate(ratings[\"userId\"].unique())}\n",
    "ratings[\"user_idx\"] = ratings[\"userId\"].map(user_id_map)\n",
    "\n",
    "movie_id_map = {old: new for new, old in enumerate(ratings[\"movieId\"].unique())}\n",
    "ratings[\"movie_idx\"] = ratings[\"movieId\"].map(movie_id_map)\n",
    "\n",
    "# Optional: convert timestamp\n",
    "ratings[\"datetime\"] = pd.to_datetime(ratings[\"timestamp\"], unit=\"s\")\n"
   ]
  },
  {
   "cell_type": "code",
   "execution_count": 18,
   "id": "f946dc83-7ad0-4308-b218-7c14d7af07d2",
   "metadata": {},
   "outputs": [
    {
     "data": {
      "text/html": [
       "<div>\n",
       "<style scoped>\n",
       "    .dataframe tbody tr th:only-of-type {\n",
       "        vertical-align: middle;\n",
       "    }\n",
       "\n",
       "    .dataframe tbody tr th {\n",
       "        vertical-align: top;\n",
       "    }\n",
       "\n",
       "    .dataframe thead th {\n",
       "        text-align: right;\n",
       "    }\n",
       "</style>\n",
       "<table border=\"1\" class=\"dataframe\">\n",
       "  <thead>\n",
       "    <tr style=\"text-align: right;\">\n",
       "      <th></th>\n",
       "      <th>movieId</th>\n",
       "      <th>title</th>\n",
       "      <th>release_date</th>\n",
       "      <th>imdb_url</th>\n",
       "    </tr>\n",
       "  </thead>\n",
       "  <tbody>\n",
       "    <tr>\n",
       "      <th>0</th>\n",
       "      <td>1</td>\n",
       "      <td>Toy Story (1995)</td>\n",
       "      <td>01-Jan-1995</td>\n",
       "      <td>http://us.imdb.com/M/title-exact?Toy%20Story%2...</td>\n",
       "    </tr>\n",
       "    <tr>\n",
       "      <th>1</th>\n",
       "      <td>2</td>\n",
       "      <td>GoldenEye (1995)</td>\n",
       "      <td>01-Jan-1995</td>\n",
       "      <td>http://us.imdb.com/M/title-exact?GoldenEye%20(...</td>\n",
       "    </tr>\n",
       "    <tr>\n",
       "      <th>2</th>\n",
       "      <td>3</td>\n",
       "      <td>Four Rooms (1995)</td>\n",
       "      <td>01-Jan-1995</td>\n",
       "      <td>http://us.imdb.com/M/title-exact?Four%20Rooms%...</td>\n",
       "    </tr>\n",
       "    <tr>\n",
       "      <th>3</th>\n",
       "      <td>4</td>\n",
       "      <td>Get Shorty (1995)</td>\n",
       "      <td>01-Jan-1995</td>\n",
       "      <td>http://us.imdb.com/M/title-exact?Get%20Shorty%...</td>\n",
       "    </tr>\n",
       "    <tr>\n",
       "      <th>4</th>\n",
       "      <td>5</td>\n",
       "      <td>Copycat (1995)</td>\n",
       "      <td>01-Jan-1995</td>\n",
       "      <td>http://us.imdb.com/M/title-exact?Copycat%20(1995)</td>\n",
       "    </tr>\n",
       "  </tbody>\n",
       "</table>\n",
       "</div>"
      ],
      "text/plain": [
       "   movieId              title release_date  \\\n",
       "0        1   Toy Story (1995)  01-Jan-1995   \n",
       "1        2   GoldenEye (1995)  01-Jan-1995   \n",
       "2        3  Four Rooms (1995)  01-Jan-1995   \n",
       "3        4  Get Shorty (1995)  01-Jan-1995   \n",
       "4        5     Copycat (1995)  01-Jan-1995   \n",
       "\n",
       "                                            imdb_url  \n",
       "0  http://us.imdb.com/M/title-exact?Toy%20Story%2...  \n",
       "1  http://us.imdb.com/M/title-exact?GoldenEye%20(...  \n",
       "2  http://us.imdb.com/M/title-exact?Four%20Rooms%...  \n",
       "3  http://us.imdb.com/M/title-exact?Get%20Shorty%...  \n",
       "4  http://us.imdb.com/M/title-exact?Copycat%20(1995)  "
      ]
     },
     "execution_count": 18,
     "metadata": {},
     "output_type": "execute_result"
    }
   ],
   "source": [
    "movies.head()"
   ]
  },
  {
   "cell_type": "code",
   "execution_count": 19,
   "id": "f0d03795-0074-4a31-acc6-5546b82a6cb4",
   "metadata": {},
   "outputs": [
    {
     "data": {
      "text/html": [
       "<div>\n",
       "<style scoped>\n",
       "    .dataframe tbody tr th:only-of-type {\n",
       "        vertical-align: middle;\n",
       "    }\n",
       "\n",
       "    .dataframe tbody tr th {\n",
       "        vertical-align: top;\n",
       "    }\n",
       "\n",
       "    .dataframe thead th {\n",
       "        text-align: right;\n",
       "    }\n",
       "</style>\n",
       "<table border=\"1\" class=\"dataframe\">\n",
       "  <thead>\n",
       "    <tr style=\"text-align: right;\">\n",
       "      <th></th>\n",
       "      <th>userId</th>\n",
       "      <th>movieId</th>\n",
       "      <th>rating</th>\n",
       "      <th>timestamp</th>\n",
       "      <th>user_idx</th>\n",
       "      <th>movie_idx</th>\n",
       "      <th>datetime</th>\n",
       "    </tr>\n",
       "  </thead>\n",
       "  <tbody>\n",
       "    <tr>\n",
       "      <th>0</th>\n",
       "      <td>196</td>\n",
       "      <td>242</td>\n",
       "      <td>3.0</td>\n",
       "      <td>881250949</td>\n",
       "      <td>0</td>\n",
       "      <td>0</td>\n",
       "      <td>1997-12-04 15:55:49</td>\n",
       "    </tr>\n",
       "    <tr>\n",
       "      <th>1</th>\n",
       "      <td>186</td>\n",
       "      <td>302</td>\n",
       "      <td>3.0</td>\n",
       "      <td>891717742</td>\n",
       "      <td>1</td>\n",
       "      <td>1</td>\n",
       "      <td>1998-04-04 19:22:22</td>\n",
       "    </tr>\n",
       "    <tr>\n",
       "      <th>2</th>\n",
       "      <td>22</td>\n",
       "      <td>377</td>\n",
       "      <td>1.0</td>\n",
       "      <td>878887116</td>\n",
       "      <td>2</td>\n",
       "      <td>2</td>\n",
       "      <td>1997-11-07 07:18:36</td>\n",
       "    </tr>\n",
       "    <tr>\n",
       "      <th>3</th>\n",
       "      <td>244</td>\n",
       "      <td>51</td>\n",
       "      <td>2.0</td>\n",
       "      <td>880606923</td>\n",
       "      <td>3</td>\n",
       "      <td>3</td>\n",
       "      <td>1997-11-27 05:02:03</td>\n",
       "    </tr>\n",
       "    <tr>\n",
       "      <th>4</th>\n",
       "      <td>166</td>\n",
       "      <td>346</td>\n",
       "      <td>1.0</td>\n",
       "      <td>886397596</td>\n",
       "      <td>4</td>\n",
       "      <td>4</td>\n",
       "      <td>1998-02-02 05:33:16</td>\n",
       "    </tr>\n",
       "  </tbody>\n",
       "</table>\n",
       "</div>"
      ],
      "text/plain": [
       "   userId  movieId  rating  timestamp  user_idx  movie_idx            datetime\n",
       "0     196      242     3.0  881250949         0          0 1997-12-04 15:55:49\n",
       "1     186      302     3.0  891717742         1          1 1998-04-04 19:22:22\n",
       "2      22      377     1.0  878887116         2          2 1997-11-07 07:18:36\n",
       "3     244       51     2.0  880606923         3          3 1997-11-27 05:02:03\n",
       "4     166      346     1.0  886397596         4          4 1998-02-02 05:33:16"
      ]
     },
     "execution_count": 19,
     "metadata": {},
     "output_type": "execute_result"
    }
   ],
   "source": [
    "ratings.head()"
   ]
  },
  {
   "cell_type": "code",
   "execution_count": 20,
   "id": "8144711e-cf5e-448a-ae74-7751a511dbed",
   "metadata": {},
   "outputs": [],
   "source": [
    "# Map movieId to zero-based index\n",
    "movies[\"movie_idx\"] = movies[\"movieId\"].map(movie_id_map)\n",
    "\n",
    "# Keep only necessary columns\n",
    "movies_clean = movies[[\"movieId\", \"movie_idx\", \"title\", \"release_date\", \"imdb_url\"]]\n"
   ]
  },
  {
   "cell_type": "code",
   "execution_count": 22,
   "id": "f32a1fd3-1b92-438f-8172-6033d5010591",
   "metadata": {},
   "outputs": [
    {
     "name": "stdout",
     "output_type": "stream",
     "text": [
      "Preprocessing complete. Files saved in 'data/processed/'\n"
     ]
    }
   ],
   "source": [
    "import pickle\n",
    "ratings.to_csv(os.path.join(PROCESSED_DIR, \"ratings_processed.csv\"), index=False)\n",
    "movies_clean.to_csv(os.path.join(PROCESSED_DIR, \"movies_processed.csv\"), index=False)\n",
    "\n",
    "# Save mapping dictionaries\n",
    "with open(os.path.join(PROCESSED_DIR, \"user_id_map.pkl\"), \"wb\") as f:\n",
    "    pickle.dump(user_id_map, f)\n",
    "with open(os.path.join(PROCESSED_DIR, \"movie_id_map.pkl\"), \"wb\") as f:\n",
    "    pickle.dump(movie_id_map, f)\n",
    "\n",
    "print(\"Preprocessing complete. Files saved in 'data/processed/'\")\n"
   ]
  },
  {
   "cell_type": "code",
   "execution_count": null,
   "id": "a92cb0a6-242f-4ac9-8a6f-554e5f236168",
   "metadata": {},
   "outputs": [],
   "source": []
  }
 ],
 "metadata": {
  "kernelspec": {
   "display_name": "Python (preferee)",
   "language": "python",
   "name": "preferee-env"
  },
  "language_info": {
   "codemirror_mode": {
    "name": "ipython",
    "version": 3
   },
   "file_extension": ".py",
   "mimetype": "text/x-python",
   "name": "python",
   "nbconvert_exporter": "python",
   "pygments_lexer": "ipython3",
   "version": "3.11.13"
  }
 },
 "nbformat": 4,
 "nbformat_minor": 5
}
